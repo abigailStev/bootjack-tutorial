{
 "cells": [
  {
   "cell_type": "code",
   "execution_count": null,
   "id": "entertaining-curve",
   "metadata": {},
   "outputs": [],
   "source": [
    "import numpy as np\n",
    "import matplotlib.pyplot as plt\n",
    "import matplotlib.font_manager as font_manager\n",
    "%matplotlib inline\n",
    "font_prop = font_manager.FontProperties(size=16)"
   ]
  },
  {
   "cell_type": "markdown",
   "id": "gothic-funds",
   "metadata": {},
   "source": [
    "# Problem 1: A simple resampling example"
   ]
  },
  {
   "cell_type": "markdown",
   "id": "arctic-manor",
   "metadata": {},
   "source": [
    "## 1a. Generate a random sample from a normal distribution, of 14 numbers, with a mean of 10 and a scale somewhere between 1 and 5. Call this array `star`.\n",
    "Think of this like the apparent magnitude of a nearby star that has a true apparent magnitude of 10, but we suspect that there's some variable dust component between us and the star, so we took a measurement every night for 14 days (two weeks)."
   ]
  },
  {
   "cell_type": "code",
   "execution_count": null,
   "id": "noticed-serum",
   "metadata": {},
   "outputs": [],
   "source": []
  },
  {
   "cell_type": "markdown",
   "id": "conscious-bookmark",
   "metadata": {},
   "source": [
    "This isn't enough data that we feel comfortable just averaging the magnitudes and computing an error from the distribution, but the star now is not visible from the telescope, so this data is all we have to work with. "
   ]
  },
  {
   "cell_type": "markdown",
   "id": "social-dakota",
   "metadata": {},
   "source": [
    "## 1b. Resample the data 5 times, with replacement, to get 5 different arrays of the same length as `star`, and calculate the mean of each resample.\n",
    "Call your array of the mean of each resample `boots`. Hint: look up the documentation for `np.random.choice`."
   ]
  },
  {
   "cell_type": "code",
   "execution_count": null,
   "id": "mexican-economy",
   "metadata": {},
   "outputs": [],
   "source": []
  },
  {
   "cell_type": "code",
   "execution_count": null,
   "id": "measured-network",
   "metadata": {},
   "outputs": [],
   "source": [
    "print(boots)"
   ]
  },
  {
   "cell_type": "markdown",
   "id": "indirect-guarantee",
   "metadata": {},
   "source": [
    "## 1c. Make and plot a histogram of the bootstrap means.  \n",
    "Also plot a vertical line at 10, the true magnitude of the star, and at the mean of your original data."
   ]
  },
  {
   "cell_type": "code",
   "execution_count": null,
   "id": "discrete-interface",
   "metadata": {},
   "outputs": [],
   "source": [
    "fig, ax = plt.subplots(1, 1, figsize=(8, 4), dpi=300)\n",
    "plt.hist(boots, bins=4)\n",
    "ax.set_xlabel(\"Average apparent magnitude\", fontproperties=font_prop)\n",
    "ax.set_ylabel(\"Number of resamples\", fontproperties=font_prop)\n",
    "ax.tick_params(axis='both', which='major', labelsize=16, \n",
    "               top=True, right=True, bottom=True, left=True)\n",
    "plt.show()"
   ]
  },
  {
   "cell_type": "markdown",
   "id": "universal-designation",
   "metadata": {},
   "source": [
    "## 1d. Calculate the variance and standard deviation of `boots`."
   ]
  },
  {
   "cell_type": "code",
   "execution_count": null,
   "id": "iraqi-mason",
   "metadata": {},
   "outputs": [],
   "source": []
  },
  {
   "cell_type": "markdown",
   "id": "actual-kingston",
   "metadata": {},
   "source": [
    "This standard deviation from the bootstraps, `boot_stddev`, gives you 1-sigma errors on the original mean of the data `star`."
   ]
  },
  {
   "cell_type": "code",
   "execution_count": null,
   "id": "looking-crowd",
   "metadata": {},
   "outputs": [],
   "source": [
    "print(\"%.2f +- %.2f\" % (np.mean(star), boot_stddev))"
   ]
  },
  {
   "cell_type": "markdown",
   "id": "color-ecology",
   "metadata": {},
   "source": [
    "## 1e. Try with N log N resamples. \n",
    "From the lecture, N log(N) (where N is the number of samples in the original data set) is the number of bootstrap iterations you need to do to be able to assume a Gaussian distribution of the resamples. Redo steps 1b, 1c, and 1d here. Print the mean from your data and the 1-sigma error. \n",
    "Notice how the histogram and variance change when you use the correct number of bootstrap iterations. "
   ]
  },
  {
   "cell_type": "code",
   "execution_count": null,
   "id": "stock-seafood",
   "metadata": {},
   "outputs": [],
   "source": []
  },
  {
   "cell_type": "code",
   "execution_count": null,
   "id": "vulnerable-recycling",
   "metadata": {},
   "outputs": [],
   "source": []
  },
  {
   "cell_type": "markdown",
   "id": "mechanical-pressure",
   "metadata": {},
   "source": [
    "## 1f. Now try again with way more bootstraps than N log(N). \n",
    "Again redoing steps 1b, 1c, and 1d here.\n",
    "Most of these are unnecessary and just take up computational resources, but with a small set like this, you can play around."
   ]
  },
  {
   "cell_type": "code",
   "execution_count": null,
   "id": "indie-entry",
   "metadata": {},
   "outputs": [],
   "source": []
  },
  {
   "cell_type": "markdown",
   "id": "regulation-roommate",
   "metadata": {},
   "source": [
    "## 1g. Use a larger sample set.\n",
    "14 data points is a pretty tiny sample set. Pretend that the star was visible again and you were able to hire an undergraduate student for the summer, so you got another 86 days of magnitude data for the star. \n",
    "Resample with bootstrap (using N log N) and see what your error is. Print the original mean of this new data set and the 1-sigma error you get from the bootstrapping."
   ]
  },
  {
   "cell_type": "code",
   "execution_count": null,
   "id": "orange-kenya",
   "metadata": {},
   "outputs": [],
   "source": [
    "\n"
   ]
  },
  {
   "cell_type": "markdown",
   "id": "heated-maldives",
   "metadata": {},
   "source": [
    "Notice the correlation between the number of points in the original sample, the number of bootstrap iterations you do, and how accurate and precise your result is."
   ]
  },
  {
   "cell_type": "markdown",
   "id": "proud-conclusion",
   "metadata": {},
   "source": [
    "# Problem 2: Black hole 'happiness' variance as a function of X-ray counts\n",
    "Congratulations! You are a scientific crew member aboard a starship only 1 kpc from the Milky Way galactic center. Your chief scientific officer wants to test a hypothesis that stellar black holes are sentient and have feelings. You're go"
   ]
  },
  {
   "cell_type": "markdown",
   "id": "utility-receiver",
   "metadata": {},
   "source": [
    "## 2a. Over a few kiloseconds, you take 40 observations of X-ray photon counts of a nearby black hole X-ray binary.\n",
    "The mean photon count rate is 3000. As you define your data array `photons`, remember that X-ray counts are Poisson-distributed!"
   ]
  },
  {
   "cell_type": "code",
   "execution_count": null,
   "id": "generous-flower",
   "metadata": {},
   "outputs": [],
   "source": []
  },
  {
   "cell_type": "markdown",
   "id": "straight-simulation",
   "metadata": {},
   "source": [
    "The chief scientific officer gives you the following function to calculate the value of black hole 'happiness'. You want to estimate the variance on the 'happiness', but can't do propagation of errors. Perhaps we don't know if there is a little unknown correlation or bias."
   ]
  },
  {
   "cell_type": "code",
   "execution_count": null,
   "id": "adopted-length",
   "metadata": {},
   "outputs": [],
   "source": [
    "def bh_happy(data):\n",
    "    temp1 = np.mean(data)\n",
    "    temp2 = np.mean(np.diff(data))\n",
    "    happiness = (temp1 + temp2) / 2\n",
    "    return happiness"
   ]
  },
  {
   "cell_type": "markdown",
   "id": "conscious-domain",
   "metadata": {},
   "source": [
    "## 2b. Compute the jackknife estimate of the black hole happiness.\n",
    "Resample (N-1) samples without replacement, where N is the number of original samples, and calculate the black hole happiness. Do this N times, and call your array of happiness estimates `jacks`."
   ]
  },
  {
   "cell_type": "code",
   "execution_count": null,
   "id": "pharmaceutical-builder",
   "metadata": {},
   "outputs": [],
   "source": []
  },
  {
   "cell_type": "code",
   "execution_count": null,
   "id": "cleared-hartford",
   "metadata": {},
   "outputs": [],
   "source": []
  },
  {
   "cell_type": "code",
   "execution_count": null,
   "id": "optional-johnston",
   "metadata": {},
   "outputs": [],
   "source": [
    "fig, ax = plt.subplots(1, 1, figsize=(8, 4), dpi=300)\n",
    "plt.hist(jacks, bins=10)\n",
    "ax.set_xlabel(\"Black hole `happiness` (unitless)\", fontproperties=font_prop)\n",
    "ax.set_ylabel(\"Number of resamples\", fontproperties=font_prop)\n",
    "ax.tick_params(axis='both', which='major', labelsize=16, \n",
    "               top=True, right=True, bottom=True, left=True)\n",
    "plt.show()"
   ]
  },
  {
   "cell_type": "markdown",
   "id": "fabulous-secret",
   "metadata": {},
   "source": [
    "## 2c. Compute and print the variance of `jacks`, the jackknife estimate of the variance of black hole happiness"
   ]
  },
  {
   "cell_type": "code",
   "execution_count": null,
   "id": "owned-eating",
   "metadata": {},
   "outputs": [],
   "source": []
  },
  {
   "cell_type": "code",
   "execution_count": null,
   "id": "anonymous-resource",
   "metadata": {},
   "outputs": [],
   "source": []
  },
  {
   "cell_type": "markdown",
   "id": "acute-equivalent",
   "metadata": {},
   "source": [
    "## 2d. At which number of jackknifes does it converge?\n",
    "Redo part 2b and 2c again, making `jacks` different lengths (doing the N-1 jackknife resampling J times). Try for values of $J < N$, $J > N$, and $J >> N$ (you already did $J = N$ in 2b!). Can you find approximately where the variance converges? Plotting histograms may help along the way, if you like visual information."
   ]
  },
  {
   "cell_type": "code",
   "execution_count": null,
   "id": "expressed-supervision",
   "metadata": {},
   "outputs": [],
   "source": []
  },
  {
   "cell_type": "markdown",
   "id": "recognized-swing",
   "metadata": {},
   "source": [
    "# Problem 3: literature search!"
   ]
  },
  {
   "cell_type": "markdown",
   "id": "original-retreat",
   "metadata": {},
   "source": [
    "Look on ADS to find an example of a paper using the jackknife or bootstrap technique for a research topic related to your astro sub-field. See if you can figure out what their original data is, what their 'estimator' or function is (it might just be the mean of the data set), why they applied the bootstrap or jackknife, and whether they used one of the alternative approaches (like block jackknife or smooth bootstrap)."
   ]
  },
  {
   "cell_type": "code",
   "execution_count": null,
   "id": "behind-caribbean",
   "metadata": {},
   "outputs": [],
   "source": []
  },
  {
   "cell_type": "markdown",
   "id": "comparative-consultation",
   "metadata": {},
   "source": [
    "# Bonus problem 4: \n",
    "Let's say for problem 1 that the first 7 days of stellar magnitude measurements had distribution scale of 2, but the next time the star was visible, the seeing was worse from the telescope site, so the next 21 days of measurements had a distribution scale of 4. Define a probability `p` associated with each magnitude measurement in `star` that you use in the resampling, instead of the standard uniform sampling. How does this change the histogram and variance? (for future reference, uniform sampling should be fine for most use cases, this is just to play around and get a better intuition for how the inputs affect the output)"
   ]
  },
  {
   "cell_type": "code",
   "execution_count": null,
   "id": "permanent-interest",
   "metadata": {},
   "outputs": [],
   "source": []
  },
  {
   "cell_type": "markdown",
   "id": "textile-commonwealth",
   "metadata": {},
   "source": [
    "# Bonus problem 5: bootstrap resampling from a 2-D array"
   ]
  },
  {
   "cell_type": "markdown",
   "id": "eleven-exchange",
   "metadata": {},
   "source": [
    "2d array, your result is the average along the rows, but there's some mild correlation between adjacent columns. Resample the columns to get the 1-sigma error for each data point in the mean 1D array!"
   ]
  },
  {
   "cell_type": "code",
   "execution_count": null,
   "id": "associate-uniform",
   "metadata": {},
   "outputs": [],
   "source": []
  },
  {
   "cell_type": "markdown",
   "id": "dramatic-captain",
   "metadata": {},
   "source": [
    "# Bonus problem 6: try the 'delete-d' or 'block' jackknife technique\n",
    "Use the setup from problem 1 or 2 (or something similar you come up with). Remember, jackknife works best for small sample populations with linear statistics or estimators (like means), not as well for non-smooth and/or non-linear cases."
   ]
  },
  {
   "cell_type": "code",
   "execution_count": null,
   "id": "contrary-litigation",
   "metadata": {},
   "outputs": [],
   "source": []
  }
 ],
 "metadata": {
  "kernelspec": {
   "display_name": "Python 3",
   "language": "python",
   "name": "python3"
  },
  "language_info": {
   "codemirror_mode": {
    "name": "ipython",
    "version": 3
   },
   "file_extension": ".py",
   "mimetype": "text/x-python",
   "name": "python",
   "nbconvert_exporter": "python",
   "pygments_lexer": "ipython3",
   "version": "3.8.5"
  }
 },
 "nbformat": 4,
 "nbformat_minor": 5
}
